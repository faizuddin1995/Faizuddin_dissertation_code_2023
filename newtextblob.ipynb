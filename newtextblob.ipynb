{
 "cells": [
  {
   "cell_type": "code",
   "execution_count": 3,
   "id": "efc4069c",
   "metadata": {},
   "outputs": [],
   "source": [
    "import pandas as pd\n",
    "from textblob import TextBlob\n",
    "\n",
    "# Load the CSV file\n",
    "df = pd.read_csv('C:/Users/tenra/Downloads/FaizFoldder/sentimenttweet/new/new data/python-tweets.csv')\n",
    "\n",
    "# Add a new column for sentiment category\n",
    "df['sentiment_category'] = ''\n",
    "\n",
    "# Perform sentiment analysis using TextBlob\n",
    "for i, row in df.iterrows():\n",
    "    tweet = row['content']\n",
    "    sentiment = TextBlob(tweet).sentiment.polarity\n",
    "\n",
    "    # Classify sentiment into categories\n",
    "    if sentiment > 0.3:\n",
    "        df.at[i, 'sentiment_category'] = 'Very Positive'\n",
    "    elif sentiment > 0:\n",
    "        df.at[i, 'sentiment_category'] = 'Positive'\n",
    "    elif sentiment == 0:\n",
    "        df.at[i, 'sentiment_category'] = 'Neutral'\n",
    "    elif sentiment > -0.3:\n",
    "        df.at[i, 'sentiment_category'] = 'Negative'\n",
    "    else:\n",
    "        df.at[i, 'sentiment_category'] = 'Very Negative'\n",
    "\n",
    "# Define a mapping dictionary for sentiment categories\n",
    "sentiment_mapping = {\n",
    "    'Very Positive': 4,\n",
    "    'Positive': 3,\n",
    "    'Neutral': 2,\n",
    "    'Negative': 1,\n",
    "    'Very Negative': 0\n",
    "}\n",
    "\n",
    "# Convert sentiment categories to numerical values\n",
    "df['sentiment_numeric'] = df['sentiment_category'].map(sentiment_mapping)\n",
    "\n",
    "# Save the modified DataFrame to a new CSV file\n",
    "df.to_csv('C:/Users/tenra/Downloads/FaizFoldder/sentimenttweet/new/new data/tweets_with_sentiment.csv', index=False)"
   ]
  },
  {
   "cell_type": "code",
   "execution_count": null,
   "id": "9cc2da51",
   "metadata": {},
   "outputs": [],
   "source": []
  }
 ],
 "metadata": {
  "kernelspec": {
   "display_name": "Python 3 (ipykernel)",
   "language": "python",
   "name": "python3"
  },
  "language_info": {
   "codemirror_mode": {
    "name": "ipython",
    "version": 3
   },
   "file_extension": ".py",
   "mimetype": "text/x-python",
   "name": "python",
   "nbconvert_exporter": "python",
   "pygments_lexer": "ipython3",
   "version": "3.9.7"
  }
 },
 "nbformat": 4,
 "nbformat_minor": 5
}
