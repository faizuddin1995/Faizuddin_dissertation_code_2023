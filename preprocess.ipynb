{
  "nbformat": 4,
  "nbformat_minor": 0,
  "metadata": {
    "colab": {
      "provenance": [],
      "include_colab_link": true
    },
    "kernelspec": {
      "name": "python3",
      "display_name": "Python 3"
    },
    "language_info": {
      "name": "python"
    }
  },
  "cells": [
    {
      "cell_type": "markdown",
      "metadata": {
        "id": "view-in-github",
        "colab_type": "text"
      },
      "source": [
        "<a href=\"https://colab.research.google.com/github/faizuddin1995/Faizuddin_dissertation_code_2023/blob/main/preprocess.ipynb\" target=\"_parent\"><img src=\"https://colab.research.google.com/assets/colab-badge.svg\" alt=\"Open In Colab\"/></a>"
      ]
    },
    {
      "cell_type": "code",
      "source": [
        "#File authorization from google drive\n",
        "from google.colab import drive\n",
        "drive.mount('/content/drive')"
      ],
      "metadata": {
        "colab": {
          "base_uri": "https://localhost:8080/"
        },
        "id": "SsnkJzVEx0TM",
        "outputId": "03a6e8a8-59d9-4a4c-8b32-54bae16c1ad0"
      },
      "execution_count": null,
      "outputs": [
        {
          "output_type": "stream",
          "name": "stdout",
          "text": [
            "Mounted at /content/drive\n"
          ]
        }
      ]
    },
    {
      "cell_type": "code",
      "source": [
        "#importing twitter data set\n",
        "import pandas as pd\n",
        "import re\n",
        "import nltk\n",
        "from nltk.corpus import stopwords\n",
        "from nltk.stem import PorterStemmer\n",
        "\n",
        "DATASET_COLUMNS = ['date','id','content','like_count','retweet_count','sentiment_category','sentiment_numeric']\n",
        "path = '/content/drive/MyDrive/data/new/tweets_with_sentiment.csv'\n",
        "df = pd.read_csv(path, encoding='ISO-8859-1', on_bad_lines='skip', names = DATASET_COLUMNS)"
      ],
      "metadata": {
        "id": "w3-dkqN5x6o4"
      },
      "execution_count": null,
      "outputs": []
    },
    {
      "cell_type": "code",
      "source": [
        "# Create a new DataFrame with selected columns\n",
        "new_df = df[['date', 'content', 'sentiment_numeric']].copy()"
      ],
      "metadata": {
        "id": "I__2NeLyxoHq"
      },
      "execution_count": null,
      "outputs": []
    },
    {
      "cell_type": "code",
      "source": [
        "# Handle missing values in the new DataFrame\n",
        "new_df['content'].fillna('', inplace=True)"
      ],
      "metadata": {
        "id": "grAVT4GeyuSC"
      },
      "execution_count": null,
      "outputs": []
    },
    {
      "cell_type": "code",
      "source": [
        "# Text cleaning and preprocessing\n",
        "nltk.download('stopwords')\n",
        "stop_words = set(stopwords.words('english'))\n",
        "stemmer = PorterStemmer()"
      ],
      "metadata": {
        "colab": {
          "base_uri": "https://localhost:8080/"
        },
        "id": "lRIuheniyzUr",
        "outputId": "182202f9-e1e0-40b4-929e-d18865781343"
      },
      "execution_count": null,
      "outputs": [
        {
          "output_type": "stream",
          "name": "stderr",
          "text": [
            "[nltk_data] Downloading package stopwords to /root/nltk_data...\n",
            "[nltk_data]   Unzipping corpora/stopwords.zip.\n"
          ]
        }
      ]
    },
    {
      "cell_type": "code",
      "source": [
        "# Apply preprocessing to \"content\" column\n",
        "new_df['content'] = new_df['content'].apply(lambda x: re.sub(r'[^\\w\\s]', '', x))\n",
        "new_df['content'] = new_df['content'].str.lower()\n",
        "new_df['content'] = new_df['content'].apply(lambda x: ' '.join([word for word in x.split() if word not in stop_words]))\n",
        "new_df['content'] = new_df['content'].apply(lambda x: ' '.join([stemmer.stem(word) for word in x.split()]))\n"
      ],
      "metadata": {
        "id": "Y0fIm_mqy4IF"
      },
      "execution_count": null,
      "outputs": []
    },
    {
      "cell_type": "code",
      "source": [
        "# Save the cleaned DataFrame to a new CSV file\n",
        "new_df.to_csv('/content/drive/MyDrive/data/new/cleaned_tweet_data.csv', index=False)"
      ],
      "metadata": {
        "id": "_aP1HJlTy6qM"
      },
      "execution_count": null,
      "outputs": []
    }
  ]
}